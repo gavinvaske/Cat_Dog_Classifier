{
 "cells": [
  {
   "cell_type": "code",
   "execution_count": 15,
   "metadata": {},
   "outputs": [],
   "source": [
    "import numpy as np \n",
    "import matplotlib.pyplot as plt\n",
    "import os \n",
    "import cv2\n",
    "import tensorflow as tf\n",
    "from tensorflow.keras.models import Sequential\n",
    "from tensorflow.keras.layers import Dense, Dropout, Activation, Flatten, Conv2D, MaxPooling2D\n",
    "from tensorflow.keras.utils import normalize\n",
    "import pickle\n",
    "from tensorflow.keras.callbacks import TensorBoard\n",
    "import time"
   ]
  },
  {
   "cell_type": "code",
   "execution_count": 16,
   "metadata": {},
   "outputs": [],
   "source": [
    "# Read images and image-labels from files\n",
    "x = pickle.load(open(\"x.pickle\", \"rb\"))\n",
    "y = pickle.load(open(\"y.pickle\", \"rb\"))\n",
    "\n",
    "# Convert image data into numpy array \n",
    "x = np.array(x)\n",
    "# Normalize eve pixel values\n",
    "x = x / 255.0"
   ]
  },
  {
   "cell_type": "code",
   "execution_count": 18,
   "metadata": {},
   "outputs": [
    {
     "name": "stdout",
     "output_type": "stream",
     "text": [
      "Train on 21204 samples, validate on 3742 samples\n",
      "Epoch 1/5\n",
      "21204/21204 [==============================] - 10s 480us/step - loss: 0.6522 - acc: 0.6033 - val_loss: 0.5732 - val_acc: 0.7047\n",
      "Epoch 2/5\n",
      "21204/21204 [==============================] - 9s 445us/step - loss: 0.5400 - acc: 0.7317 - val_loss: 0.5067 - val_acc: 0.7453\n",
      "Epoch 3/5\n",
      "21204/21204 [==============================] - 9s 444us/step - loss: 0.4942 - acc: 0.7619 - val_loss: 0.4833 - val_acc: 0.7662\n",
      "Epoch 4/5\n",
      "21204/21204 [==============================] - 9s 448us/step - loss: 0.4613 - acc: 0.7840 - val_loss: 0.4631 - val_acc: 0.7793\n",
      "Epoch 5/5\n",
      "21204/21204 [==============================] - 9s 443us/step - loss: 0.4337 - acc: 0.7962 - val_loss: 0.4523 - val_acc: 0.7921\n"
     ]
    },
    {
     "data": {
      "text/plain": [
       "<tensorflow.python.keras.callbacks.History at 0x1f6313bbba8>"
      ]
     },
     "execution_count": 18,
     "metadata": {},
     "output_type": "execute_result"
    }
   ],
   "source": [
    "# Creating new tensorboard object with unique ID (using time())\n",
    "NAME = \"Cats-vs-dog-cnn-64-by-2\" + str(int(time.time()))\n",
    "tensorboard = TensorBoard(log_dir='logs/{}'.format(NAME))\n",
    "\n",
    "# Initalize Model\n",
    "model = Sequential()\n",
    "# Applying 3-by-3 convolutions to inmage\n",
    "model.add( Conv2D(64, (3,3), input_shape = x.shape[1:]) )\n",
    "model.add(Activation(\"relu\"))\n",
    "model.add(MaxPooling2D(pool_size=(2,2)))\n",
    "\n",
    "# Applying 3-by-3 convolutions to inmage\n",
    "model.add( Conv2D(64, (3,3)) )\n",
    "model.add(Activation(\"relu\"))\n",
    "model.add(MaxPooling2D(pool_size=(2,2)))\n",
    "\n",
    "model.add(Flatten())\n",
    "model.add(Dense(64))\n",
    "model.add(Activation(\"relu\"))\n",
    "\n",
    "# Applying final dense layer\n",
    "model.add(Dense(1))\n",
    "model.add(Activation(\"sigmoid\"))\n",
    "\n",
    "# Compile model\n",
    "model.compile(loss=\"binary_crossentropy\",\n",
    "              optimizer=\"adam\",\n",
    "              metrics=['accuracy'])\n",
    "\n",
    "# Train model and use a validation set to verify model accuracy \n",
    "model.fit(x, y, batch_size=64, epochs= 5, validation_split=0.15, callbacks=[tensorboard])"
   ]
  }
 ],
 "metadata": {
  "kernelspec": {
   "display_name": "Python 3",
   "language": "python",
   "name": "python3"
  },
  "language_info": {
   "codemirror_mode": {
    "name": "ipython",
    "version": 3
   },
   "file_extension": ".py",
   "mimetype": "text/x-python",
   "name": "python",
   "nbconvert_exporter": "python",
   "pygments_lexer": "ipython3",
   "version": "3.6.6"
  }
 },
 "nbformat": 4,
 "nbformat_minor": 2
}
